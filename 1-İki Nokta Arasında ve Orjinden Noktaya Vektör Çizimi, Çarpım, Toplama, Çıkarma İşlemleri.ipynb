{
 "cells": [
  {
   "cell_type": "code",
   "execution_count": 2,
   "metadata": {},
   "outputs": [
    {
     "data": {
      "text/plain": [
       "[<matplotlib.lines.Line2D at 0x23f2022b550>]"
      ]
     },
     "execution_count": 2,
     "metadata": {},
     "output_type": "execute_result"
    },
    {
     "data": {
      "image/png": "[encoded data removed]",
      "text/plain": [
       "<Figure size 432x288 with 1 Axes>"
      ]
     },
     "metadata": {},
     "output_type": "display_data"
    }
   ],
   "source": [
    "import matplotlib.pyplot as plt\n",
    "x=[4,0]\n",
    "y=[0,3]\n",
    "get_ipython().magic('matplotlib inline')\n",
    "plt.plot(x,y)"
   ]
  },
  {
   "cell_type": "code",
   "execution_count": 3,
   "metadata": {},
   "outputs": [
    {
     "data": {
      "image/png": "[encoded data removed]",
      "text/plain": [
       "<Figure size 432x288 with 1 Axes>"
      ]
     },
     "metadata": {},
     "output_type": "display_data"
    }
   ],
   "source": [
    "def my_draw_a_vector_from_origin(v): # from origin to v\n",
    "    plt.axes().set_aspect('equal')\n",
    "    x=[0,v[0]]\n",
    "    y=[0,v[1]]\n",
    "    plt.xlim(0,20) #x ekseni sınır değerleri ayarladık\n",
    "    plt.ylim(0,20) #y ekseni sınır değerleri ayarladık\n",
    "    plt.plot(x,y)\n",
    "my_draw_a_vector_from_origin([15,10])"
   ]
  },
  {
   "cell_type": "code",
   "execution_count": 4,
   "metadata": {},
   "outputs": [
    {
     "data": {
      "image/png": "[encoded data removed]",
      "text/plain": [
       "<Figure size 432x288 with 1 Axes>"
      ]
     },
     "metadata": {},
     "output_type": "display_data"
    }
   ],
   "source": [
    "def my_draw_a_vector_from_v_to_w(v,w): # from v to w\n",
    "    x=[v[0],w[0]]\n",
    "    y=[v[1],w[1]]\n",
    "    plt.xlim(2,6)\n",
    "    plt.ylim(5,25)\n",
    "    plt.plot(x,y)\n",
    "my_draw_a_vector_from_v_to_w([5,10],[5,20])"
   ]
  },
  {
   "cell_type": "code",
   "execution_count": 17,
   "metadata": {},
   "outputs": [
    {
     "data": {
      "text/plain": [
       "40"
      ]
     },
     "execution_count": 17,
     "metadata": {},
     "output_type": "execute_result"
    }
   ],
   "source": [
    "# iki vektorün skaler carpımı\n",
    "def my_scalar_product(a,b):\n",
    "    return (a[0]*b[0]+a[1]*b[1])\n",
    "v=[3,4]\n",
    "w=[4,7]\n",
    "my_scalar_product(v,w)"
   ]
  },
  {
   "cell_type": "code",
   "execution_count": 18,
   "metadata": {},
   "outputs": [],
   "source": [
    "def distance(v,w):\n",
    "    return (((v[0]-w[0])**2) + ((v[1]-w[1])**2))**.5"
   ]
  },
  {
   "cell_type": "code",
   "execution_count": 19,
   "metadata": {},
   "outputs": [],
   "source": [
    "def my_vector_add(v,w):\n",
    "    return [v[0]+w[0],v[1]+w[1]]"
   ]
  },
  {
   "cell_type": "code",
   "execution_count": 20,
   "metadata": {},
   "outputs": [],
   "source": [
    "def my_vector_substract(v,w):\n",
    "    return [v[0]-w[0],v[1]-w[1]]"
   ]
  },
  {
   "cell_type": "code",
   "execution_count": 21,
   "metadata": {},
   "outputs": [],
   "source": [
    "def my_vector_multiply_with_scalar(c,v):\n",
    "    return [c*v[0],c*v[1]]"
   ]
  },
  {
   "cell_type": "code",
   "execution_count": 23,
   "metadata": {},
   "outputs": [
    {
     "name": "stdout",
     "output_type": "stream",
     "text": [
      "Toplam  :  [3, 4]\n",
      "Fark    :  [3, -4]\n",
      "B 5 katı:  [0, 20]\n",
      "Uzunluk :  5.0\n"
     ]
    }
   ],
   "source": [
    "a=[3,0]\n",
    "b=[0,4]\n",
    "print(\"Toplam  : \",my_vector_add(a,b))\n",
    "print(\"Fark    : \",my_vector_substract(a,b))\n",
    "print(\"B 5 katı: \",my_vector_multiply_with_scalar(5,b))\n",
    "print(\"Uzunluk : \",distance(a,b))"
   ]
  },
  {
   "cell_type": "code",
   "execution_count": null,
   "metadata": {},
   "outputs": [],
   "source": []
  }
 ],
 "metadata": {
  "kernelspec": {
   "display_name": "Python 3",
   "language": "python",
   "name": "python3"
  },
  "language_info": {
   "codemirror_mode": {
    "name": "ipython",
    "version": 3
   },
   "file_extension": ".py",
   "mimetype": "text/x-python",
   "name": "python",
   "nbconvert_exporter": "python",
   "pygments_lexer": "ipython3",
   "version": "3.6.5"
  }
 },
 "nbformat": 4,
 "nbformat_minor": 2
}
